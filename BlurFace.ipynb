{
 "cells": [
  {
   "cell_type": "code",
   "execution_count": 1,
   "id": "d585bf0c",
   "metadata": {},
   "outputs": [],
   "source": [
    "import cv2"
   ]
  },
  {
   "cell_type": "code",
   "execution_count": 2,
   "id": "d0fe1a86",
   "metadata": {},
   "outputs": [],
   "source": [
    "image = cv2.imread('image.jpg')"
   ]
  },
  {
   "cell_type": "code",
   "execution_count": 3,
   "id": "97bbf0a2",
   "metadata": {},
   "outputs": [],
   "source": [
    "h, w = image.shape[:2]\n",
    "\n",
    "kernel_width = (w//7) | 1\n",
    "kernel_height = (h//7) | 1"
   ]
  },
  {
   "cell_type": "code",
   "execution_count": 4,
   "id": "b0f2b7b3",
   "metadata": {},
   "outputs": [],
   "source": [
    "face = cv2.CascadeClassifier('haarcascade_frontalface_default.xml')"
   ]
  },
  {
   "cell_type": "code",
   "execution_count": 5,
   "id": "cddf7958",
   "metadata": {},
   "outputs": [],
   "source": [
    "faces = face.detectMultiScale(image, 1.1, 5)\n"
   ]
  },
  {
   "cell_type": "code",
   "execution_count": 6,
   "id": "ee3b3dfd",
   "metadata": {},
   "outputs": [
    {
     "name": "stdout",
     "output_type": "stream",
     "text": [
      "Face detected in the image: 1\n"
     ]
    }
   ],
   "source": [
    "print(\"Face detected in the image:\", len(faces))\n"
   ]
  },
  {
   "cell_type": "code",
   "execution_count": 7,
   "id": "74b159fa",
   "metadata": {},
   "outputs": [],
   "source": [
    "for (x, y, w, h) in faces:\n",
    "   roi = image[y:y+h, x:x+w]\n",
    "      # apply gaussian blur to face rectangle\n",
    "   roi = cv2.GaussianBlur(roi, (17, 17), 30)\n",
    " \n",
    "   # add blurred face on original image to get final image\n",
    "   image[y:y+roi.shape[0], x:x+roi.shape[1]] = roi"
   ]
  },
  {
   "cell_type": "code",
   "execution_count": 8,
   "id": "2af0ea9e",
   "metadata": {},
   "outputs": [],
   "source": [
    "# Display the output\n",
    "cv2.imshow('Blur Face', image)\n",
    "cv2.waitKey(0)\n",
    "cv2.destroyAllWindows()"
   ]
  },
  {
   "cell_type": "code",
   "execution_count": null,
   "id": "7400ab3a",
   "metadata": {},
   "outputs": [],
   "source": []
  }
 ],
 "metadata": {
  "kernelspec": {
   "display_name": "Python 3 (ipykernel)",
   "language": "python",
   "name": "python3"
  },
  "language_info": {
   "codemirror_mode": {
    "name": "ipython",
    "version": 3
   },
   "file_extension": ".py",
   "mimetype": "text/x-python",
   "name": "python",
   "nbconvert_exporter": "python",
   "pygments_lexer": "ipython3",
   "version": "3.10.4"
  }
 },
 "nbformat": 4,
 "nbformat_minor": 5
}
